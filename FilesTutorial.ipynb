f = open('test.txt')

f = open('test.txt', 'r')
f = open('test.txt', 'w') 
f = open('test.txt', 'a') 
f = open('test.txt', 'r+') 

f.close()

with open('test.txt', 'r') as f:
    f_contents = f.read()
    f_contents = f.readlines()
    f_contents = f.readline()

    print(f_contents)

for line in f:
    print(line, end='')

f_contents = f.read(100)
print(f_contents, end='')


size_to_read = 100
f_contents = f.read(size_to_read)

while len(f_contents) > 0:
    print(f_contents(size_to_read))

print(f.tell())

f.seek(0)
f.write('Test')

with open('test2.txt', 'w') as f:
    f.write('test')

with open('test.txt', 'r') as rf:
    with open('test_copy.txt', 'w') as wf:
        for line in rf:
            wf.write(line)


with open('DSC_0798.jpg', 'rb') as rf:
    with open('DSC_0798.jpg', 'wb') as wf:
        for line in rf:
        wf.write(line)

with open('DSC_0798.jpg', 'rb') as rf:
    with open('DSC_0798.jpg', 'wb') as wf: 
    chunk_size = 4096
    rf_chunk = rf.read(chunk_size)
        while len(rf_chunk) > 0:
        rf_chunk = rf.read(chunk_size)










