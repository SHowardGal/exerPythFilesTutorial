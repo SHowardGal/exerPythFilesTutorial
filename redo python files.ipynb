{
 "cells": [
  {
   "cell_type": "code",
   "execution_count": 1,
   "id": "a2513c1a",
   "metadata": {},
   "outputs": [
    {
     "ename": "IndentationError",
     "evalue": "expected an indented block (<ipython-input-1-c59c4c5a4eea>, line 47)",
     "output_type": "error",
     "traceback": [
      "\u001b[1;36m  File \u001b[1;32m\"<ipython-input-1-c59c4c5a4eea>\"\u001b[1;36m, line \u001b[1;32m47\u001b[0m\n\u001b[1;33m    wf.write(line)\u001b[0m\n\u001b[1;37m    ^\u001b[0m\n\u001b[1;31mIndentationError\u001b[0m\u001b[1;31m:\u001b[0m expected an indented block\n"
     ]
    }
   ],
   "source": [
    "\n",
    "f = open('test.txt')\n",
    "\n",
    "f = open('test.txt', 'r')\n",
    "f = open('test.txt', 'w') \n",
    "f = open('test.txt', 'a') \n",
    "f = open('test.txt', 'r+') \n",
    "\n",
    "f.close()\n",
    "\n",
    "with open('test.txt', 'r') as f:\n",
    "    f_contents = f.read()\n",
    "    f_contents = f.readlines()\n",
    "    f_contents = f.readline()\n",
    "\n",
    "    print(f_contents)\n",
    "\n",
    "for line in f:\n",
    "    print(line, end='')\n",
    "\n",
    "f_contents = f.read(100)\n",
    "print(f_contents, end='')\n",
    "\n",
    "\n",
    "size_to_read = 100\n",
    "f_contents = f.read(size_to_read)\n",
    "\n",
    "while len(f_contents) > 0:\n",
    "    print(f_contents(size_to_read))\n",
    "\n",
    "print(f.tell())\n",
    "\n",
    "f.seek(0)\n",
    "f.write('Test')\n",
    "\n",
    "with open('test2.txt', 'w') as f:\n",
    "    f.write('test')\n",
    "\n",
    "with open('test.txt', 'r') as rf:\n",
    "    with open('test_copy.txt', 'w') as wf:\n",
    "        for line in rf:\n",
    "            wf.write(line)\n",
    "\n",
    "\n",
    "with open('DSC_0798.jpg', 'rb') as rf:\n",
    "    with open('DSC_0798.jpg', 'wb') as wf:\n",
    "        for line in rf:\n",
    "        wf.write(line)\n",
    "\n",
    "with open('DSC_0798.jpg', 'rb') as rf:\n",
    "    with open('DSC_0798.jpg', 'wb') as wf: \n",
    "    chunk_size = 4096\n",
    "    rf_chunk = rf.read(chunk_size)\n",
    "        while len(rf_chunk) > 0:\n",
    "        rf_chunk = rf.read(chunk_size)\n"
   ]
  },
  {
   "cell_type": "code",
   "execution_count": null,
   "id": "2911aefb",
   "metadata": {},
   "outputs": [],
   "source": []
  }
 ],
 "metadata": {
  "kernelspec": {
   "display_name": "Python 3",
   "language": "python",
   "name": "python3"
  },
  "language_info": {
   "codemirror_mode": {
    "name": "ipython",
    "version": 3
   },
   "file_extension": ".py",
   "mimetype": "text/x-python",
   "name": "python",
   "nbconvert_exporter": "python",
   "pygments_lexer": "ipython3",
   "version": "3.8.8"
  }
 },
 "nbformat": 4,
 "nbformat_minor": 5
}
